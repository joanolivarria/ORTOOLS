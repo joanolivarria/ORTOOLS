{
  "cells": [
    {
      "cell_type": "markdown",
      "id": "google",
      "metadata": {
        "id": "google"
      },
      "source": [
        "##### Copyright 2025 Google LLC."
      ]
    },
    {
      "cell_type": "markdown",
      "id": "apache",
      "metadata": {
        "id": "apache"
      },
      "source": [
        "Licensed under the Apache License, Version 2.0 (the \"License\");\n",
        "you may not use this file except in compliance with the License.\n",
        "You may obtain a copy of the License at\n",
        "\n",
        "    http://www.apache.org/licenses/LICENSE-2.0\n",
        "\n",
        "Unless required by applicable law or agreed to in writing, software\n",
        "distributed under the License is distributed on an \"AS IS\" BASIS,\n",
        "WITHOUT WARRANTIES OR CONDITIONS OF ANY KIND, either express or implied.\n",
        "See the License for the specific language governing permissions and\n",
        "limitations under the License.\n"
      ]
    },
    {
      "cell_type": "markdown",
      "id": "basename",
      "metadata": {
        "id": "basename"
      },
      "source": [
        "# linear_programming_example"
      ]
    },
    {
      "cell_type": "markdown",
      "id": "link",
      "metadata": {
        "id": "link"
      },
      "source": [
        "<table align=\"left\">\n",
        "<td>\n",
        "<a href=\"https://colab.research.google.com/github/google/or-tools/blob/main/examples/notebook/linear_solver/linear_programming_example.ipynb\"><img src=\"https://raw.githubusercontent.com/google/or-tools/main/tools/colab_32px.png\"/>Run in Google Colab</a>\n",
        "</td>\n",
        "<td>\n",
        "<a href=\"https://github.com/google/or-tools/blob/main/ortools/linear_solver/samples/linear_programming_example.py\"><img src=\"https://raw.githubusercontent.com/google/or-tools/main/tools/github_32px.png\"/>View source on GitHub</a>\n",
        "</td>\n",
        "</table>"
      ]
    },
    {
      "cell_type": "markdown",
      "id": "doc",
      "metadata": {
        "id": "doc"
      },
      "source": [
        "First, you must install [ortools](https://pypi.org/project/ortools/) package in this colab."
      ]
    },
    {
      "cell_type": "code",
      "execution_count": 8,
      "id": "install",
      "metadata": {
        "colab": {
          "base_uri": "https://localhost:8080/"
        },
        "id": "install",
        "outputId": "2e52f466-c59e-4d5c-e103-260eef716275"
      },
      "outputs": [
        {
          "output_type": "stream",
          "name": "stdout",
          "text": [
            "Requirement already satisfied: ortools in /usr/local/lib/python3.11/dist-packages (9.14.6206)\n",
            "Requirement already satisfied: absl-py>=2.0.0 in /usr/local/lib/python3.11/dist-packages (from ortools) (2.3.1)\n",
            "Requirement already satisfied: numpy>=1.13.3 in /usr/local/lib/python3.11/dist-packages (from ortools) (2.0.2)\n",
            "Requirement already satisfied: pandas>=2.0.0 in /usr/local/lib/python3.11/dist-packages (from ortools) (2.2.2)\n",
            "Requirement already satisfied: protobuf<6.32,>=6.31.1 in /usr/local/lib/python3.11/dist-packages (from ortools) (6.31.1)\n",
            "Requirement already satisfied: typing-extensions>=4.12 in /usr/local/lib/python3.11/dist-packages (from ortools) (4.14.0)\n",
            "Requirement already satisfied: immutabledict>=3.0.0 in /usr/local/lib/python3.11/dist-packages (from ortools) (4.2.1)\n",
            "Requirement already satisfied: python-dateutil>=2.8.2 in /usr/local/lib/python3.11/dist-packages (from pandas>=2.0.0->ortools) (2.9.0.post0)\n",
            "Requirement already satisfied: pytz>=2020.1 in /usr/local/lib/python3.11/dist-packages (from pandas>=2.0.0->ortools) (2025.2)\n",
            "Requirement already satisfied: tzdata>=2022.7 in /usr/local/lib/python3.11/dist-packages (from pandas>=2.0.0->ortools) (2025.2)\n",
            "Requirement already satisfied: six>=1.5 in /usr/local/lib/python3.11/dist-packages (from python-dateutil>=2.8.2->pandas>=2.0.0->ortools) (1.17.0)\n"
          ]
        }
      ],
      "source": [
        "%pip install ortools"
      ]
    },
    {
      "cell_type": "markdown",
      "id": "description",
      "metadata": {
        "id": "description"
      },
      "source": [
        "\n",
        "Linear optimization example."
      ]
    },
    {
      "cell_type": "code",
      "execution_count": 9,
      "id": "code",
      "metadata": {
        "colab": {
          "base_uri": "https://localhost:8080/"
        },
        "id": "code",
        "outputId": "eb1b1113-35d8-439f-dc5e-d540f9c9bd0c"
      },
      "outputs": [
        {
          "output_type": "stream",
          "name": "stdout",
          "text": [
            "Number of variables = 2\n",
            "Number of constraints = 4\n",
            "Solving with Glop solver v9.14.6206\n",
            "Solution:\n",
            "Objective value = 100.0\n",
            "x = 6.0\n",
            "y = 4.0\n",
            "\n",
            "Advanced usage:\n",
            "Problem solved in 1 milliseconds\n",
            "Problem solved in 2 iterations\n"
          ]
        }
      ],
      "source": [
        "from ortools.linear_solver import pywraplp\n",
        "\n",
        "\n",
        "def LinearProgrammingExample():\n",
        "    \"\"\"Linear programming sample.\"\"\"\n",
        "    # Instantiate a Glop solver, naming it LinearExample.\n",
        "    solver = pywraplp.Solver.CreateSolver(\"GLOP\")\n",
        "    if not solver:\n",
        "        return\n",
        "\n",
        "    # Create the two variables and let them take on any non-negative value.\n",
        "    x = solver.NumVar(0, solver.infinity(), \"x\")\n",
        "    y = solver.NumVar(0, solver.infinity(), \"y\")\n",
        "\n",
        "    print(\"Number of variables =\", solver.NumVariables())\n",
        "\n",
        "    # Constraint 0: x + 2y <= 14.\n",
        "    solver.Add(x + 2 * y <= 14.0)\n",
        "\n",
        "    # Constraint 1: 3x - y >= 0.\n",
        "    solver.Add(3 * x - y >= 0.0)\n",
        "\n",
        "    # Constraint 2: x - y <= 2.\n",
        "\n",
        "\n",
        "    print(\"Number of constraints =\", solver.NumConstraints())\n",
        "\n",
        "    # Objective function: 3x + 4y.\n",
        "    solver.Maximize(0.35 * x + 0.50 * y)\n",
        "\n",
        "    # Solve the system.\n",
        "    print(f\"Solving with {solver.SolverVersion()}\")\n",
        "    status = solver.Solve()\n",
        "\n",
        "    if status == pywraplp.Solver.OPTIMAL:\n",
        "        print(\"Solution:\")\n",
        "        print(f\"Objective value = {solver.Objective().Value():0.1f}\")\n",
        "        print(f\"x = {x.solution_value():0.1f}\")\n",
        "        print(f\"y = {y.solution_value():0.1f}\")\n",
        "    else:\n",
        "        print(\"The problem does not have an optimal solution.\")\n",
        "\n",
        "    print(\"\\nAdvanced usage:\")\n",
        "    print(f\"Problem solved in {solver.wall_time():d} milliseconds\")\n",
        "    print(f\"Problem solved in {solver.iterations():d} iterations\")\n",
        "\n",
        "\n",
        "LinearProgrammingExample()\n",
        "\n"
      ]
    },
    {
      "cell_type": "code",
      "source": [
        "from google.colab import drive\n",
        "drive.mount('/content/drive')"
      ],
      "metadata": {
        "colab": {
          "base_uri": "https://localhost:8080/"
        },
        "id": "9ZKatNw88Ylj",
        "outputId": "546d7ab6-9254-442c-feb8-ce15b8438492"
      },
      "id": "9ZKatNw88Ylj",
      "execution_count": 10,
      "outputs": [
        {
          "output_type": "stream",
          "name": "stdout",
          "text": [
            "Drive already mounted at /content/drive; to attempt to forcibly remount, call drive.mount(\"/content/drive\", force_remount=True).\n"
          ]
        }
      ]
    }
  ],
  "metadata": {
    "language_info": {
      "name": "python"
    },
    "colab": {
      "provenance": []
    },
    "kernelspec": {
      "name": "python3",
      "display_name": "Python 3"
    }
  },
  "nbformat": 4,
  "nbformat_minor": 5
}