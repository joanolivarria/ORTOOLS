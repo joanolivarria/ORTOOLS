{
  "cells": [
    {
      "cell_type": "markdown",
      "metadata": {
        "id": "view-in-github",
        "colab_type": "text"
      },
      "source": [
        "<a href=\"https://colab.research.google.com/github/joanolivarria/ORTOOLS/blob/main/examples/notebook/linear_solver/linear_programming_example.ipynb\" target=\"_parent\"><img src=\"https://colab.research.google.com/assets/colab-badge.svg\" alt=\"Open In Colab\"/></a>"
      ]
    },
    {
      "cell_type": "markdown",
      "id": "google",
      "metadata": {
        "id": "google"
      },
      "source": [
        "##### Copyright 2025 Google LLC."
      ]
    },
    {
      "cell_type": "markdown",
      "id": "apache",
      "metadata": {
        "id": "apache"
      },
      "source": [
        "Licensed under the Apache License, Version 2.0 (the \"License\");\n",
        "you may not use this file except in compliance with the License.\n",
        "You may obtain a copy of the License at\n",
        "\n",
        "    http://www.apache.org/licenses/LICENSE-2.0\n",
        "\n",
        "Unless required by applicable law or agreed to in writing, software\n",
        "distributed under the License is distributed on an \"AS IS\" BASIS,\n",
        "WITHOUT WARRANTIES OR CONDITIONS OF ANY KIND, either express or implied.\n",
        "See the License for the specific language governing permissions and\n",
        "limitations under the License.\n"
      ]
    },
    {
      "cell_type": "markdown",
      "id": "basename",
      "metadata": {
        "id": "basename"
      },
      "source": [
        "# linear_programming_example"
      ]
    },
    {
      "cell_type": "markdown",
      "id": "link",
      "metadata": {
        "id": "link"
      },
      "source": [
        "<table align=\"left\">\n",
        "<td>\n",
        "<a href=\"https://colab.research.google.com/github/google/or-tools/blob/main/examples/notebook/linear_solver/linear_programming_example.ipynb\"><img src=\"https://raw.githubusercontent.com/google/or-tools/main/tools/colab_32px.png\"/>Run in Google Colab</a>\n",
        "</td>\n",
        "<td>\n",
        "<a href=\"https://github.com/google/or-tools/blob/main/ortools/linear_solver/samples/linear_programming_example.py\"><img src=\"https://raw.githubusercontent.com/google/or-tools/main/tools/github_32px.png\"/>View source on GitHub</a>\n",
        "</td>\n",
        "</table>"
      ]
    },
    {
      "cell_type": "markdown",
      "id": "doc",
      "metadata": {
        "id": "doc"
      },
      "source": [
        "First, you must install [ortools](https://pypi.org/project/ortools/) package in this colab."
      ]
    },
    {
      "cell_type": "code",
      "execution_count": 1,
      "id": "install",
      "metadata": {
        "colab": {
          "base_uri": "https://localhost:8080/",
          "height": 772
        },
        "id": "install",
        "outputId": "339fd173-a5d4-4312-d5ad-8904597f5671"
      },
      "outputs": [
        {
          "output_type": "stream",
          "name": "stdout",
          "text": [
            "Collecting ortools\n",
            "  Downloading ortools-9.14.6206-cp311-cp311-manylinux_2_27_x86_64.manylinux_2_28_x86_64.whl.metadata (3.3 kB)\n",
            "Collecting absl-py>=2.0.0 (from ortools)\n",
            "  Downloading absl_py-2.3.1-py3-none-any.whl.metadata (3.3 kB)\n",
            "Requirement already satisfied: numpy>=1.13.3 in /usr/local/lib/python3.11/dist-packages (from ortools) (2.0.2)\n",
            "Requirement already satisfied: pandas>=2.0.0 in /usr/local/lib/python3.11/dist-packages (from ortools) (2.2.2)\n",
            "Collecting protobuf<6.32,>=6.31.1 (from ortools)\n",
            "  Downloading protobuf-6.31.1-cp39-abi3-manylinux2014_x86_64.whl.metadata (593 bytes)\n",
            "Requirement already satisfied: typing-extensions>=4.12 in /usr/local/lib/python3.11/dist-packages (from ortools) (4.14.0)\n",
            "Requirement already satisfied: immutabledict>=3.0.0 in /usr/local/lib/python3.11/dist-packages (from ortools) (4.2.1)\n",
            "Requirement already satisfied: python-dateutil>=2.8.2 in /usr/local/lib/python3.11/dist-packages (from pandas>=2.0.0->ortools) (2.9.0.post0)\n",
            "Requirement already satisfied: pytz>=2020.1 in /usr/local/lib/python3.11/dist-packages (from pandas>=2.0.0->ortools) (2025.2)\n",
            "Requirement already satisfied: tzdata>=2022.7 in /usr/local/lib/python3.11/dist-packages (from pandas>=2.0.0->ortools) (2025.2)\n",
            "Requirement already satisfied: six>=1.5 in /usr/local/lib/python3.11/dist-packages (from python-dateutil>=2.8.2->pandas>=2.0.0->ortools) (1.17.0)\n",
            "Downloading ortools-9.14.6206-cp311-cp311-manylinux_2_27_x86_64.manylinux_2_28_x86_64.whl (27.7 MB)\n",
            "\u001b[2K   \u001b[90m━━━━━━━━━━━━━━━━━━━━━━━━━━━━━━━━━━━━━━━━\u001b[0m \u001b[32m27.7/27.7 MB\u001b[0m \u001b[31m66.2 MB/s\u001b[0m eta \u001b[36m0:00:00\u001b[0m\n",
            "\u001b[?25hDownloading absl_py-2.3.1-py3-none-any.whl (135 kB)\n",
            "\u001b[2K   \u001b[90m━━━━━━━━━━━━━━━━━━━━━━━━━━━━━━━━━━━━━━━━\u001b[0m \u001b[32m135.8/135.8 kB\u001b[0m \u001b[31m9.5 MB/s\u001b[0m eta \u001b[36m0:00:00\u001b[0m\n",
            "\u001b[?25hDownloading protobuf-6.31.1-cp39-abi3-manylinux2014_x86_64.whl (321 kB)\n",
            "\u001b[2K   \u001b[90m━━━━━━━━━━━━━━━━━━━━━━━━━━━━━━━━━━━━━━━━\u001b[0m \u001b[32m321.1/321.1 kB\u001b[0m \u001b[31m24.8 MB/s\u001b[0m eta \u001b[36m0:00:00\u001b[0m\n",
            "\u001b[?25hInstalling collected packages: protobuf, absl-py, ortools\n",
            "  Attempting uninstall: protobuf\n",
            "    Found existing installation: protobuf 5.29.5\n",
            "    Uninstalling protobuf-5.29.5:\n",
            "      Successfully uninstalled protobuf-5.29.5\n",
            "  Attempting uninstall: absl-py\n",
            "    Found existing installation: absl-py 1.4.0\n",
            "    Uninstalling absl-py-1.4.0:\n",
            "      Successfully uninstalled absl-py-1.4.0\n",
            "\u001b[31mERROR: pip's dependency resolver does not currently take into account all the packages that are installed. This behaviour is the source of the following dependency conflicts.\n",
            "ydf 0.12.0 requires protobuf<6.0.0,>=5.29.1, but you have protobuf 6.31.1 which is incompatible.\n",
            "google-ai-generativelanguage 0.6.15 requires protobuf!=4.21.0,!=4.21.1,!=4.21.2,!=4.21.3,!=4.21.4,!=4.21.5,<6.0.0dev,>=3.20.2, but you have protobuf 6.31.1 which is incompatible.\n",
            "grpcio-status 1.71.2 requires protobuf<6.0dev,>=5.26.1, but you have protobuf 6.31.1 which is incompatible.\n",
            "tensorflow 2.18.0 requires protobuf!=4.21.0,!=4.21.1,!=4.21.2,!=4.21.3,!=4.21.4,!=4.21.5,<6.0.0dev,>=3.20.3, but you have protobuf 6.31.1 which is incompatible.\u001b[0m\u001b[31m\n",
            "\u001b[0mSuccessfully installed absl-py-2.3.1 ortools-9.14.6206 protobuf-6.31.1\n"
          ]
        },
        {
          "output_type": "display_data",
          "data": {
            "application/vnd.colab-display-data+json": {
              "pip_warning": {
                "packages": [
                  "google"
                ]
              },
              "id": "1da32ef584eb4c09ae2f22b23ec86b01"
            }
          },
          "metadata": {}
        }
      ],
      "source": [
        "%pip install ortools"
      ]
    },
    {
      "cell_type": "markdown",
      "id": "description",
      "metadata": {
        "id": "description"
      },
      "source": [
        "\n",
        "Linear optimization example."
      ]
    },
    {
      "cell_type": "code",
      "execution_count": 2,
      "id": "code",
      "metadata": {
        "colab": {
          "base_uri": "https://localhost:8080/"
        },
        "id": "code",
        "outputId": "42073ebb-b623-470a-816d-f51d331383cc"
      },
      "outputs": [
        {
          "output_type": "stream",
          "name": "stdout",
          "text": [
            "Number of variables = 2\n",
            "Number of constraints = 3\n",
            "Solving with Glop solver v9.14.6206\n",
            "Solution:\n",
            "Objective value = 100.0\n",
            "x = 6.0\n",
            "y = 4.0\n",
            "\n",
            "Advanced usage:\n",
            "Problem solved in 1 milliseconds\n",
            "Problem solved in 2 iterations\n"
          ]
        }
      ],
      "source": [
        "from ortools.linear_solver import pywraplp\n",
        "\n",
        "\n",
        "def LinearProgrammingExample():\n",
        "    \"\"\"Linear programming sample.\"\"\"\n",
        "    # Instantiate a Glop solver, naming it LinearExample.\n",
        "    solver = pywraplp.Solver.CreateSolver(\"GLOP\")\n",
        "    if not solver:\n",
        "        return\n",
        "\n",
        "    # Create the two variables and let them take on any non-negative value.\n",
        "    x = solver.NumVar(0, solver.infinity(), \"x\")\n",
        "    y = solver.NumVar(0, solver.infinity(), \"y\")\n",
        "\n",
        "    print(\"Number of variables =\", solver.NumVariables())\n",
        "\n",
        "    # Constraint 0: x + 2y <= 14.\n",
        "    solver.Add(x + 2 * y <= 14.0)\n",
        "\n",
        "    # Constraint 1: 3x - y >= 0.\n",
        "    solver.Add(3 * x - y >= 0.0)\n",
        "\n",
        "    # Constraint 2: x - y <= 2.\n",
        "    solver.Add(x - y <= 2.0)\n",
        "\n",
        "    print(\"Number of constraints =\", solver.NumConstraints())\n",
        "\n",
        "    # Objective function: 3x + 4y.\n",
        "    solver.Maximize(10 * x + 10 * y)\n",
        "\n",
        "    # Solve the system.\n",
        "    print(f\"Solving with {solver.SolverVersion()}\")\n",
        "    status = solver.Solve()\n",
        "\n",
        "    if status == pywraplp.Solver.OPTIMAL:\n",
        "        print(\"Solution:\")\n",
        "        print(f\"Objective value = {solver.Objective().Value():0.1f}\")\n",
        "        print(f\"x = {x.solution_value():0.1f}\")\n",
        "        print(f\"y = {y.solution_value():0.1f}\")\n",
        "    else:\n",
        "        print(\"The problem does not have an optimal solution.\")\n",
        "\n",
        "    print(\"\\nAdvanced usage:\")\n",
        "    print(f\"Problem solved in {solver.wall_time():d} milliseconds\")\n",
        "    print(f\"Problem solved in {solver.iterations():d} iterations\")\n",
        "\n",
        "\n",
        "LinearProgrammingExample()\n",
        "\n"
      ]
    },
    {
      "cell_type": "code",
      "source": [
        "from google.colab import drive\n",
        "drive.mount('/content/drive')"
      ],
      "metadata": {
        "colab": {
          "base_uri": "https://localhost:8080/"
        },
        "id": "9ZKatNw88Ylj",
        "outputId": "369ab148-4173-4978-b2a3-ec5a6c2fe7dd"
      },
      "id": "9ZKatNw88Ylj",
      "execution_count": 5,
      "outputs": [
        {
          "output_type": "stream",
          "name": "stdout",
          "text": [
            "Drive already mounted at /content/drive; to attempt to forcibly remount, call drive.mount(\"/content/drive\", force_remount=True).\n"
          ]
        }
      ]
    }
  ],
  "metadata": {
    "language_info": {
      "name": "python"
    },
    "colab": {
      "provenance": [],
      "include_colab_link": true
    },
    "kernelspec": {
      "name": "python3",
      "display_name": "Python 3"
    }
  },
  "nbformat": 4,
  "nbformat_minor": 5
}